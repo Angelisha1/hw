{
 "cells": [
  {
   "cell_type": "markdown",
   "metadata": {},
   "source": [
    "# Задача №1"
   ]
  },
  {
   "cell_type": "code",
   "execution_count": 1,
   "metadata": {},
   "outputs": [],
   "source": [
    "import json"
   ]
  },
  {
   "cell_type": "code",
   "execution_count": 150,
   "metadata": {},
   "outputs": [
    {
     "name": "stdout",
     "output_type": "stream",
     "text": [
      "{'1840e0b9d4': 'Продукты', '4e4f90fcfb': 'Электроника', 'afea8d72fc': 'Электроника', '373a6055fe': 'Бытовая техника', '9b2ab046f3': 'Электроника', '9f39d307c3': 'Электроника', '44edeffc91': 'Продукты', '704474fa2d': 'Продукты', '1de31be403': 'Бытовая техника', 'b71f36a5e4': 'Продукты', '79843a685a': 'Продукты', 'ff68cee0d6': 'Бытовая техника', 'e8447c40e2': 'Досуг', '98d290be27': 'Электроника', 'fa0079a5a8': 'Досуг', '22d2f03a17': 'Досуг'}\n"
     ]
    }
   ],
   "source": [
    "i = 0\n",
    "with open('purchase_log.txt', 'r', encoding='utf-8') as file:\n",
    "    purchases = {}\n",
    "    file.readline()\n",
    "    \n",
    "    for line in file:\n",
    "        dictionary = json.loads(line.strip())\n",
    "        purchases.setdefault(dictionary.get('user_id'), dictionary.get('category'))\n",
    "        \n",
    "        i += 1\n",
    "        if i > 15:\n",
    "            break\n",
    "\n",
    "print(purchases)"
   ]
  },
  {
   "cell_type": "markdown",
   "metadata": {},
   "source": [
    "# Задача №2"
   ]
  },
  {
   "cell_type": "code",
   "execution_count": 155,
   "metadata": {},
   "outputs": [],
   "source": [
    "with open ('visit_log.csv', 'r', encoding='utf-8') as f:\n",
    "    f.readline()\n",
    "    with open ('funnel.csv', 'w', encoding='utf-8') as f2write:\n",
    "        for line in f:\n",
    "            line = line.strip('\\n').split(',')\n",
    "            user, source = line\n",
    "            for user_id, product in purchases.items():\n",
    "                if user in purchases:\n",
    "                    res = user, source, product \n",
    "                    f2write.write(f'{res} \\n')\n",
    "                else:\n",
    "                    pass\n",
    "\n",
    "f2write.close()"
   ]
  },
  {
   "cell_type": "code",
   "execution_count": 160,
   "metadata": {},
   "outputs": [
    {
     "data": {
      "text/plain": [
       "[\"('1840e0b9d4', 'other', 'Продукты') \\n\",\n",
       " \"('1840e0b9d4', 'other', 'Электроника') \\n\",\n",
       " \"('1840e0b9d4', 'other', 'Электроника') \\n\"]"
      ]
     },
     "execution_count": 160,
     "metadata": {},
     "output_type": "execute_result"
    }
   ],
   "source": [
    "with open ('funnel.csv', 'r', encoding='utf-8') as u:\n",
    "    r = u.readlines()\n",
    "\n",
    "r[:3]"
   ]
  },
  {
   "cell_type": "code",
   "execution_count": null,
   "metadata": {},
   "outputs": [],
   "source": []
  }
 ],
 "metadata": {
  "kernelspec": {
   "display_name": "Python 3",
   "language": "python",
   "name": "python3"
  },
  "language_info": {
   "codemirror_mode": {
    "name": "ipython",
    "version": 3
   },
   "file_extension": ".py",
   "mimetype": "text/x-python",
   "name": "python",
   "nbconvert_exporter": "python",
   "pygments_lexer": "ipython3",
   "version": "3.8.3"
  }
 },
 "nbformat": 4,
 "nbformat_minor": 4
}
