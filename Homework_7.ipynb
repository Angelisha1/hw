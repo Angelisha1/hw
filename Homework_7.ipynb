{
 "cells": [
  {
   "cell_type": "markdown",
   "metadata": {},
   "source": [
    "# Задача №1"
   ]
  },
  {
   "cell_type": "code",
   "execution_count": 230,
   "metadata": {},
   "outputs": [],
   "source": [
    "import requests"
   ]
  },
  {
   "cell_type": "code",
   "execution_count": 231,
   "metadata": {},
   "outputs": [
    {
     "data": {
      "text/plain": [
       "'СДР (специальные права заимствования)'"
      ]
     },
     "execution_count": 231,
     "metadata": {},
     "output_type": "execute_result"
    }
   ],
   "source": [
    "data = requests.get('https://www.cbr-xml-daily.ru/daily_json.js').json()\n",
    "valute_list = data['Valute']\n",
    "v = []\n",
    "v_n = []\n",
    "value_name = []\n",
    "res = ''\n",
    "\n",
    "def max_value():\n",
    "    for valute, info in valute_list.items():\n",
    "        value = info['Value']\n",
    "        v.append(value)\n",
    "        valute_name = info['Name']\n",
    "        v_n.append(valute_name)\n",
    "        value_name = list(sorted(zip(v, v_n), reverse = True))\n",
    "        res = value_name[0][1]\n",
    "    \n",
    "    return res\n",
    "\n",
    "\n",
    "max_value()"
   ]
  },
  {
   "cell_type": "markdown",
   "metadata": {},
   "source": [
    "# Задача №2"
   ]
  },
  {
   "cell_type": "code",
   "execution_count": 255,
   "metadata": {},
   "outputs": [],
   "source": [
    "class Rate:\n",
    "    def __init__(self, format_ = 'value', diff = True):\n",
    "        \n",
    "        \"\"\"\n",
    "        метод, в котором задаются основные параметры по умолчанию -- формат ответа(value - только значение курса) и разница\n",
    "        по сравнению с предыдущим значением (diff)\n",
    "        \n",
    "        на основе этих параметров через self создаются две переменные, кот. будут использоваться в последующих методах \n",
    "        \"\"\"\n",
    "            \n",
    "        self.format = format_\n",
    "        \n",
    "        self.diff = diff\n",
    "        \n",
    "    \n",
    "    def exchange_rates(self):\n",
    "        \n",
    "        \"\"\"\n",
    "        метод для запроса информации в формате json по нужному [ключу] из источника\n",
    "        \"\"\"\n",
    "\n",
    "        self.request = requests.get('https://www.cbr-xml-daily.ru/daily_json.js')\n",
    "        return self.request.json()['Valute']\n",
    "    \n",
    "        \n",
    "    def make_format(self, currency):\n",
    "    \n",
    "        \"\"\"\n",
    "        метод, устанавливающий в каком виде будет выводиться ответ\n",
    "\n",
    "        основа для ответа -- предыдущий метод для запроса информации\n",
    "\n",
    "        если параметр format_ == 'full', то в ответе будет выведена вся информация по валюте\n",
    "\n",
    "        если все параметры соответствуют заданным по умолчанию, то в ответе будет выведен нынешний курс валюты и разница\n",
    "        по сравнению с предыдущим\n",
    "        \"\"\"\n",
    "        \n",
    "        response = self.exchange_rates()\n",
    "        \n",
    "        if currency in response:\n",
    "            \n",
    "            if self.format == 'full':\n",
    "                return response[currency]\n",
    "            \n",
    "            if self.format == 'value' and self.diff == True:\n",
    "                return response[currency]['Value'], response[currency]['Value'] - response[currency]['Previous']\n",
    "\n",
    "        \n",
    "        return 'Error'\n",
    "    \n",
    "    def eur(self):\n",
    "        return self.make_format('EUR')\n",
    "    \n",
    "    def usd(self):\n",
    "        return self.make_format('USD')"
   ]
  },
  {
   "cell_type": "code",
   "execution_count": 250,
   "metadata": {},
   "outputs": [],
   "source": [
    "info = Rate()"
   ]
  },
  {
   "cell_type": "code",
   "execution_count": 251,
   "metadata": {},
   "outputs": [
    {
     "data": {
      "text/plain": [
       "(91.3222, 0.5117999999999938)"
      ]
     },
     "execution_count": 251,
     "metadata": {},
     "output_type": "execute_result"
    }
   ],
   "source": [
    "info.eur()"
   ]
  },
  {
   "cell_type": "markdown",
   "metadata": {},
   "source": [
    "# Задача №3"
   ]
  },
  {
   "cell_type": "code",
   "execution_count": 268,
   "metadata": {},
   "outputs": [],
   "source": [
    "class Employee:\n",
    "    def __init__(self, name, seniority):\n",
    "        self.name = name\n",
    "        self.seniority = seniority\n",
    "        \n",
    "        self.grade = 1\n",
    "    \n",
    "    def grade_up(self):\n",
    "        \"\"\"Повышает уровень сотрудника\"\"\"\n",
    "        self.grade += 1\n",
    "    \n",
    "    def publish_grade(self):\n",
    "        \"\"\"Публикация результатов аккредитации сотрудников\"\"\"\n",
    "        print(self.name, self.grade)\n",
    "    \n",
    "    def check_if_it_is_time_for_upgrade(self):\n",
    "        pass"
   ]
  },
  {
   "cell_type": "code",
   "execution_count": 386,
   "metadata": {},
   "outputs": [],
   "source": [
    "class Designer(Employee):\n",
    "    def __init__(self, name, seniority, award = 2):\n",
    "        super().__init__(name, seniority)\n",
    "        \n",
    "        self.award = award\n",
    "        \n",
    "        self.seniority == self.award * 2\n",
    "\n",
    "    def check_if_it_is_time_for_upgrade(self):\n",
    "        \n",
    "        \n",
    "        self.seniority += 1\n",
    "        \n",
    "    \n",
    "        if self.seniority % 7 == 0:\n",
    "            self.grade_up()\n",
    "        \n",
    "        return self.publish_grade()"
   ]
  },
  {
   "cell_type": "code",
   "execution_count": 382,
   "metadata": {},
   "outputs": [],
   "source": [
    "Zhenunk = Designer('Настя', 0)"
   ]
  },
  {
   "cell_type": "code",
   "execution_count": 383,
   "metadata": {},
   "outputs": [
    {
     "name": "stdout",
     "output_type": "stream",
     "text": [
      "Настя 1\n",
      "Настя 1\n",
      "Настя 1\n",
      "Настя 1\n",
      "Настя 1\n",
      "Настя 1\n",
      "Настя 2\n",
      "Настя 2\n",
      "Настя 2\n",
      "Настя 2\n",
      "Настя 2\n",
      "Настя 2\n",
      "Настя 2\n",
      "Настя 3\n",
      "Настя 3\n",
      "Настя 3\n",
      "Настя 3\n",
      "Настя 3\n",
      "Настя 3\n",
      "Настя 3\n",
      "Настя 4\n",
      "Настя 4\n",
      "Настя 4\n",
      "Настя 4\n",
      "Настя 4\n",
      "Настя 4\n",
      "Настя 4\n",
      "Настя 5\n",
      "Настя 5\n",
      "Настя 5\n",
      "Настя 5\n",
      "Настя 5\n",
      "Настя 5\n",
      "Настя 5\n",
      "Настя 6\n",
      "Настя 6\n",
      "Настя 6\n",
      "Настя 6\n",
      "Настя 6\n",
      "Настя 6\n",
      "Настя 6\n",
      "Настя 7\n",
      "Настя 7\n",
      "Настя 7\n",
      "Настя 7\n",
      "Настя 7\n",
      "Настя 7\n",
      "Настя 7\n",
      "Настя 8\n",
      "Настя 8\n"
     ]
    }
   ],
   "source": [
    "for i in range(50):\n",
    "    Zhenunk.check_if_it_is_time_for_upgrade()"
   ]
  }
 ],
 "metadata": {
  "kernelspec": {
   "display_name": "Python 3",
   "language": "python",
   "name": "python3"
  },
  "language_info": {
   "codemirror_mode": {
    "name": "ipython",
    "version": 3
   },
   "file_extension": ".py",
   "mimetype": "text/x-python",
   "name": "python",
   "nbconvert_exporter": "python",
   "pygments_lexer": "ipython3",
   "version": "3.8.3"
  }
 },
 "nbformat": 4,
 "nbformat_minor": 4
}
