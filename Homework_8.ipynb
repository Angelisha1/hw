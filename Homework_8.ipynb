{
 "cells": [
  {
   "cell_type": "markdown",
   "metadata": {},
   "source": [
    "# Задача №1"
   ]
  },
  {
   "cell_type": "code",
   "execution_count": 2,
   "metadata": {},
   "outputs": [],
   "source": [
    "import re"
   ]
  },
  {
   "cell_type": "code",
   "execution_count": 17,
   "metadata": {},
   "outputs": [
    {
     "name": "stdout",
     "output_type": "stream",
     "text": [
      "Введите номер: АБ22ВВ193\n",
      "Номер не валиден\n"
     ]
    }
   ],
   "source": [
    "car_id = input('Введите номер: ')\n",
    "\n",
    "def check(car_id):\n",
    "    pattern = r'([АВЕКМНОРСТУХ]\\d{3}[АВЕКМНОРСТУХ]{2})(\\d{2,3})'\n",
    "    result = re.match(pattern, car_id)\n",
    "    if result:\n",
    "        print(f'Номер {result.group(1)} валиден. Регион: {result.group(2)}')\n",
    "    else:\n",
    "        print('Номер не валиден')\n",
    "\n",
    "check(car_id)"
   ]
  },
  {
   "cell_type": "markdown",
   "metadata": {},
   "source": [
    "# Задача №2"
   ]
  },
  {
   "cell_type": "code",
   "execution_count": 43,
   "metadata": {},
   "outputs": [
    {
     "name": "stdout",
     "output_type": "stream",
     "text": [
      "Введите фразу: Напишите функцию функцию, которая будет будет будет будет удалять все все все все последовательные повторы слов из из из из заданной строки строки при помощи регулярных выражений.\n"
     ]
    },
    {
     "data": {
      "text/plain": [
       "'Напишите функцию, которая будет удалять все последовательные повторы слов из заданной строки при помощи регулярных выражений.'"
      ]
     },
     "execution_count": 43,
     "metadata": {},
     "output_type": "execute_result"
    }
   ],
   "source": [
    "some_string = input('Введите фразу: ')\n",
    "\n",
    "def del_rep(some_string):\n",
    "    res = re.sub(r'(\\w+)(\\s*\\1)*', r'\\1', some_string)\n",
    "    return res\n",
    "\n",
    "del_rep(some_string)"
   ]
  },
  {
   "cell_type": "markdown",
   "metadata": {},
   "source": [
    "# Задача №3"
   ]
  },
  {
   "cell_type": "code",
   "execution_count": 42,
   "metadata": {},
   "outputs": [
    {
     "name": "stdout",
     "output_type": "stream",
     "text": [
      "Введите словосочетание: Информационные технологии\n",
      "ИТ\n"
     ]
    }
   ],
   "source": [
    "some_words = input('Введите словосочетание: ')\n",
    "\n",
    "def acronym(some_words):\n",
    "    result = re.sub(r'(\\w)(\\w+)\\s*', r'\\1', some_words)\n",
    "    print(result.upper())\n",
    "\n",
    "acronym(some_words)"
   ]
  },
  {
   "cell_type": "markdown",
   "metadata": {},
   "source": [
    "# Задача №4"
   ]
  },
  {
   "cell_type": "code",
   "execution_count": 67,
   "metadata": {},
   "outputs": [
    {
     "name": "stdout",
     "output_type": "stream",
     "text": [
      "@gmail.com: 2\n",
      "@test.in: 1\n",
      "@ya.ru: 2\n",
      "@mail.ru: 1\n"
     ]
    }
   ],
   "source": [
    "d_pattern = r'(\\w+[a-zA-Z])(@\\w+[a-z].\\w+[a-z])'\n",
    "\n",
    "def domain_list(emails):\n",
    "    domain_count = {}\n",
    "    for domain in emails:\n",
    "        d_name = re.search(d_pattern, domain).group(2)\n",
    "        if d_name not in domain_count:\n",
    "            domain_count[d_name] = 1\n",
    "        else:\n",
    "            domain_count[d_name] += 1\n",
    "    \n",
    "    for key, value in domain_count.items():\n",
    "        print(f'{key}: {value}')\n",
    "        \n",
    "    \n",
    "\n",
    "domain_list(emails = ['test@gmail.com', 'xyz@test.in', 'test@ya.ru', 'xyz@mail.ru', 'xyz@ya.ru', 'xyz@gmail.com'])"
   ]
  },
  {
   "cell_type": "code",
   "execution_count": null,
   "metadata": {},
   "outputs": [],
   "source": []
  },
  {
   "cell_type": "code",
   "execution_count": null,
   "metadata": {},
   "outputs": [],
   "source": []
  },
  {
   "cell_type": "code",
   "execution_count": null,
   "metadata": {},
   "outputs": [],
   "source": []
  },
  {
   "cell_type": "code",
   "execution_count": null,
   "metadata": {},
   "outputs": [],
   "source": []
  }
 ],
 "metadata": {
  "kernelspec": {
   "display_name": "Python 3",
   "language": "python",
   "name": "python3"
  },
  "language_info": {
   "codemirror_mode": {
    "name": "ipython",
    "version": 3
   },
   "file_extension": ".py",
   "mimetype": "text/x-python",
   "name": "python",
   "nbconvert_exporter": "python",
   "pygments_lexer": "ipython3",
   "version": "3.8.3"
  }
 },
 "nbformat": 4,
 "nbformat_minor": 4
}
