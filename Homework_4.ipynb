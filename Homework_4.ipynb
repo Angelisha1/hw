{
 "cells": [
  {
   "cell_type": "code",
   "execution_count": 156,
   "metadata": {},
   "outputs": [],
   "source": [
    "documents = [\n",
    "{'type': 'passport', 'number': '2207 876234', 'name': 'Василий Гупкин'},\n",
    "{'type': 'invoice', 'number': '11-2', 'name': 'Геннадий Покемонов'},\n",
    "{'type': 'insurance', 'number': '10006', 'name': 'Аристарх Павлов'}\n",
    "]"
   ]
  },
  {
   "cell_type": "code",
   "execution_count": 157,
   "metadata": {},
   "outputs": [],
   "source": [
    "directories = {\n",
    "'1': ['2207 876234', '11-2'],\n",
    "'2': ['10006'],\n",
    "'3': []\n",
    "}"
   ]
  },
  {
   "cell_type": "code",
   "execution_count": null,
   "metadata": {},
   "outputs": [],
   "source": [
    "def owner_by_number(owner):\n",
    "    name = \"\"\n",
    "    num = input('Введите номер документа: ')\n",
    "    for person in owner:\n",
    "        if num == person['number']:\n",
    "            name = (person[\"name\"])\n",
    "    if name != \"\":\n",
    "        return print(f'Владелец документа: {name}')\n",
    "    \n",
    "    return print('Документ не найден в базе')\n",
    "\n",
    "owner_by_number(documents)"
   ]
  },
  {
   "cell_type": "code",
   "execution_count": null,
   "metadata": {},
   "outputs": [],
   "source": [
    "def dir_by_number(info):\n",
    "    directory = \"\"\n",
    "    num = input('Введите номер документа: ')\n",
    "    for serial, number in info.items():\n",
    "        if num in number:\n",
    "            directory = serial\n",
    "    if directory != \"\":\n",
    "        return print(f'Документ хранится на полке: {directory}')\n",
    "    \n",
    "    return print('Документ не найден в базе')\n",
    "\n",
    "\n",
    "dir_by_number(directories)"
   ]
  },
  {
   "cell_type": "code",
   "execution_count": null,
   "metadata": {
    "scrolled": true
   },
   "outputs": [],
   "source": [
    "def full_info(information):\n",
    "    for information in documents:\n",
    "        doc_num = information[\"number\"]\n",
    "        for key, value in directories.items():\n",
    "            if doc_num in value:\n",
    "                print(f'№: {information[\"number\"]}, тип: {information[\"type\"]}, владелец: {information[\"name\"]}, номер полки: {key}')\n",
    "\n",
    "full_info(documents)"
   ]
  },
  {
   "cell_type": "code",
   "execution_count": null,
   "metadata": {
    "scrolled": true
   },
   "outputs": [],
   "source": [
    "def add_directory(directory):\n",
    "    num = input('Введите номер полки: ')\n",
    "    for directory in directories.keys():\n",
    "            if num == directory:\n",
    "                return print (f'Такая полка уже существует. Текущий перечень полок: {\", \".join(directories.keys())}')\n",
    "                \n",
    "    if num != directory:\n",
    "        directories.setdefault(num, [])\n",
    "        return print(f'Полка добавлена. Текущий перечень полок: {\", \".join(directories.keys())}')\n",
    "\n",
    "add_directory(directories)"
   ]
  },
  {
   "cell_type": "code",
   "execution_count": null,
   "metadata": {},
   "outputs": [],
   "source": [
    "def delete_directory():\n",
    "    num = input('Введите номер полки: ')\n",
    "    if num not in directories.keys():\n",
    "        return print(f'Такой полки не существует. Текущий перечень полок: {\", \".join(directories.keys())}')\n",
    "    \n",
    "    elif num in directories.keys() and directories[num] == []:\n",
    "        del(directories[num])\n",
    "        return print (f'Полка удалена. Текущий перечень полок: {\", \".join(directories.keys())}')\n",
    "    \n",
    "    else:\n",
    "        return print (f'На полке есть документ, удалите их перед удалением полки. Текущий перечень полок: {\", \".join(directories.keys())}')\n",
    "        \n",
    "        \n",
    "        \n",
    "delete_directory()"
   ]
  },
  {
   "cell_type": "code",
   "execution_count": null,
   "metadata": {},
   "outputs": [],
   "source": [
    "def main():\n",
    "    while True:\n",
    "        user = input('Введите команду: ')\n",
    "        if user == 'p':\n",
    "            owner_by_number(documents)\n",
    "        elif user == 's':\n",
    "            dir_by_number(directories)\n",
    "        elif user == 'l':\n",
    "            full_info(documents)\n",
    "        elif user == 'as':\n",
    "            add_directory(directories)\n",
    "        elif user == 'ds':\n",
    "            delete_directory()\n",
    "        elif user == 'q':\n",
    "            print('Завершение работы')\n",
    "            break\n",
    "\n",
    "main()"
   ]
  }
 ],
 "metadata": {
  "kernelspec": {
   "display_name": "Python 3",
   "language": "python",
   "name": "python3"
  },
  "language_info": {
   "codemirror_mode": {
    "name": "ipython",
    "version": 3
   },
   "file_extension": ".py",
   "mimetype": "text/x-python",
   "name": "python",
   "nbconvert_exporter": "python",
   "pygments_lexer": "ipython3",
   "version": "3.8.3"
  }
 },
 "nbformat": 4,
 "nbformat_minor": 4
}
